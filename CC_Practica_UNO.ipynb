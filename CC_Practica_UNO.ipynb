{
  "nbformat": 4,
  "nbformat_minor": 0,
  "metadata": {
    "colab": {
      "name": "CC- Practica UNO.ipynb",
      "provenance": []
    },
    "kernelspec": {
      "name": "python3",
      "display_name": "Python 3"
    },
    "language_info": {
      "name": "python"
    }
  },
  "cells": [
    {
      "cell_type": "code",
      "execution_count": null,
      "metadata": {
        "id": "MQuz-Xm5GPAV"
      },
      "outputs": [],
      "source": [
        "\n"
      ]
    },
    {
      "cell_type": "markdown",
      "source": [
        ""
      ],
      "metadata": {
        "id": "h286_qH4a9FI"
      }
    },
    {
      "cell_type": "markdown",
      "source": [
        "**PRÁCTICA 1**\n",
        "unl.png\n",
        "\n",
        "Complejidad Computacional\n",
        "Unidad: Complejidad Algorítmica\n",
        "\n",
        "Nombre: Mayuri Elizabeth Condoy Rodrguez\n",
        "\n",
        "Profesor: Luis Chamba-Eras"
      ],
      "metadata": {
        "id": "bg7Pr0xIGZuh"
      }
    },
    {
      "cell_type": "markdown",
      "source": [
        "Algoritmo 1: \n",
        "# Nueva sección"
      ],
      "metadata": {
        "id": "2V6_xTeRHnVD"
      }
    },
    {
      "cell_type": "code",
      "source": [
        "def fact(n):\n",
        "    p = 1\n",
        "    for i in range(n):\n",
        "        p = p * (i+1)\n",
        "    return p\n",
        "\n",
        "print (fact(5))"
      ],
      "metadata": {
        "colab": {
          "base_uri": "https://localhost:8080/"
        },
        "id": "F1FGuL7THe1P",
        "outputId": "8be23db3-6fe2-433c-ccfc-815142790902"
      },
      "execution_count": 1,
      "outputs": [
        {
          "output_type": "stream",
          "name": "stdout",
          "text": [
            "120\n"
          ]
        }
      ]
    },
    {
      "cell_type": "markdown",
      "source": [
        "Algoritmo 2:"
      ],
      "metadata": {
        "id": "_j9isgw2HrMc"
      }
    },
    {
      "cell_type": "code",
      "source": [
        "def fact2(n):\n",
        "    if n == 0:\n",
        "        return 1\n",
        "    else:\n",
        "        return n * fact2(n-1)\n",
        "\n",
        "print (fact2(5))"
      ],
      "metadata": {
        "colab": {
          "base_uri": "https://localhost:8080/"
        },
        "id": "7ezj3DJ3HtcR",
        "outputId": "60b79e38-8823-475c-cb99-ea1e30c975f0"
      },
      "execution_count": null,
      "outputs": [
        {
          "output_type": "stream",
          "name": "stdout",
          "text": [
            "120\n"
          ]
        }
      ]
    },
    {
      "cell_type": "markdown",
      "source": [
        "Tiempo de ejecución de los algoritmos:"
      ],
      "metadata": {
        "id": "J4lMldv-JrDs"
      }
    },
    {
      "cell_type": "code",
      "source": [
        "#Algoritmo 1\n",
        "%timeit fact(500)"
      ],
      "metadata": {
        "colab": {
          "base_uri": "https://localhost:8080/"
        },
        "id": "653gHsDVJvMP",
        "outputId": "bd517b87-276d-4f56-ccda-419ae4b7dd53"
      },
      "execution_count": null,
      "outputs": [
        {
          "output_type": "stream",
          "name": "stdout",
          "text": [
            "10000 loops, best of 5: 90.5 µs per loop\n"
          ]
        }
      ]
    },
    {
      "cell_type": "code",
      "source": [
        "\n",
        "#Algoritmo 2\n",
        "%timeit fact2(500)"
      ],
      "metadata": {
        "colab": {
          "base_uri": "https://localhost:8080/"
        },
        "id": "8dczON2kJ-5Q",
        "outputId": "2d9d29b0-3d18-47aa-bb3c-d68a104ea653"
      },
      "execution_count": null,
      "outputs": [
        {
          "output_type": "stream",
          "name": "stdout",
          "text": [
            "1000 loops, best of 5: 308 µs per loop\n"
          ]
        }
      ]
    },
    {
      "cell_type": "markdown",
      "source": [
        "Complejidad Constante:"
      ],
      "metadata": {
        "id": "JhvlASZGLzoi"
      }
    },
    {
      "cell_type": "code",
      "source": [
        "def constant_algo(items):\n",
        "    r = items[0] * items[0]\n",
        "    print (r)\n",
        "\n",
        "constant_algo([4, 5, 6, 8])"
      ],
      "metadata": {
        "colab": {
          "base_uri": "https://localhost:8080/"
        },
        "id": "8OqhzUbTL2Ly",
        "outputId": "c849d87b-f857-498b-88a2-f35ca3d89bc9"
      },
      "execution_count": 2,
      "outputs": [
        {
          "output_type": "stream",
          "name": "stdout",
          "text": [
            "16\n"
          ]
        }
      ]
    },
    {
      "cell_type": "code",
      "source": [
        "import matplotlib.pyplot as plt\n",
        "import numpy as np\n",
        "\n",
        "x = [2, 4, 6, 8, 10, 12]\n",
        "\n",
        "y = [2, 2, 2, 2, 2, 2]\n",
        "\n",
        "plt.plot(x, y, 'b')\n",
        "plt.xlabel('ENTRADAS')\n",
        "plt.ylabel('PASOS')\n",
        "plt.title('COMPLEJIDAD CONSTANTE')\n",
        "plt.show()"
      ],
      "metadata": {
        "colab": {
          "base_uri": "https://localhost:8080/",
          "height": 295
        },
        "id": "_0ud7HPWMf5y",
        "outputId": "0dfbd4d6-64d2-4476-bece-64f15f1bd018"
      },
      "execution_count": 3,
      "outputs": [
        {
          "output_type": "display_data",
          "data": {
            "image/png": "[encoded data removed]",
            "text/plain": [
              "<Figure size 432x288 with 1 Axes>"
            ]
          },
          "metadata": {
            "needs_background": "light"
          }
        }
      ]
    },
    {
      "cell_type": "markdown",
      "source": [
        "Complejidad Lineal:"
      ],
      "metadata": {
        "id": "nghTsN-wM7KN"
      }
    },
    {
      "cell_type": "code",
      "source": [
        "def l_algo(items):\n",
        "    for item in items:\n",
        "        print(item)\n",
        "\n",
        "l_algo([4, 5, 6, 8])"
      ],
      "metadata": {
        "colab": {
          "base_uri": "https://localhost:8080/"
        },
        "id": "lNBH1237NHOo",
        "outputId": "52bab8c0-7877-4269-df9b-30ed06831cc6"
      },
      "execution_count": 4,
      "outputs": [
        {
          "output_type": "stream",
          "name": "stdout",
          "text": [
            "4\n",
            "5\n",
            "6\n",
            "8\n"
          ]
        }
      ]
    },
    {
      "cell_type": "code",
      "source": [
        "import matplotlib.pyplot as plt\n",
        "import numpy as np\n",
        "\n",
        "x = [2, 4, 6, 8, 10, 12]\n",
        "\n",
        "y = [2, 4, 6, 8, 10, 12]\n",
        "\n",
        "plt.plot(x, y, 'b')\n",
        "plt.xlabel('ENTRADAS')\n",
        "plt.ylabel('PASOS')\n",
        "plt.title('COMPLEJIDAD CONSTANTE')\n",
        "plt.show()"
      ],
      "metadata": {
        "colab": {
          "base_uri": "https://localhost:8080/",
          "height": 295
        },
        "id": "_AlUCPutNPyB",
        "outputId": "08ca0b11-abd7-4e93-f320-770531c6d1b1"
      },
      "execution_count": 5,
      "outputs": [
        {
          "output_type": "display_data",
          "data": {
            "image/png": "[encoded data removed]",
            "text/plain": [
              "<Figure size 432x288 with 1 Axes>"
            ]
          },
          "metadata": {
            "needs_background": "light"
          }
        }
      ]
    },
    {
      "cell_type": "code",
      "source": [
        "def linear_algo(items):\n",
        "    for i in items:\n",
        "        print(i)\n",
        "    for item in items:\n",
        "        print(i)\n",
        "\n",
        "linear_algo([4, 5, 6, 8])"
      ],
      "metadata": {
        "colab": {
          "base_uri": "https://localhost:8080/"
        },
        "id": "2TgjHQhzNhTj",
        "outputId": "10d73d2a-5d36-434c-c6e5-331b8fbd2d5f"
      },
      "execution_count": 6,
      "outputs": [
        {
          "output_type": "stream",
          "name": "stdout",
          "text": [
            "4\n",
            "5\n",
            "6\n",
            "8\n",
            "8\n",
            "8\n",
            "8\n",
            "8\n"
          ]
        }
      ]
    },
    {
      "cell_type": "code",
      "source": [
        "import matplotlib.pyplot as plt\n",
        "import numpy as np\n",
        "\n",
        "x = [2, 4, 6, 8, 10, 12]\n",
        "\n",
        "y = [4, 8, 12, 16, 20, 24]\n",
        "\n",
        "plt.plot(x, y, 'b')\n",
        "plt.xlabel('ENTRADAS')\n",
        "plt.ylabel('PASOS')\n",
        "plt.title('COMPLEJIDAD CONSTANTE')\n",
        "plt.show()"
      ],
      "metadata": {
        "colab": {
          "base_uri": "https://localhost:8080/",
          "height": 295
        },
        "id": "liJPVeTVNr2d",
        "outputId": "b6b1d449-0c13-406d-c26a-969a2f37fe26"
      },
      "execution_count": null,
      "outputs": [
        {
          "output_type": "display_data",
          "data": {
            "image/png": "[encoded data removed]",
            "text/plain": [
              "<Figure size 432x288 with 1 Axes>"
            ]
          },
          "metadata": {
            "needs_background": "light"
          }
        }
      ]
    },
    {
      "cell_type": "markdown",
      "source": [
        "Complejidad Cuadrática:"
      ],
      "metadata": {
        "id": "LVUKDf68N87q"
      }
    },
    {
      "cell_type": "code",
      "source": [
        "def quadratic_algo(items):\n",
        "    for i in items:\n",
        "        for item2 in items:\n",
        "            print(i, ' ' ,i)\n",
        "\n",
        "quadratic_algo([5, 6, 2, 10])"
      ],
      "metadata": {
        "colab": {
          "base_uri": "https://localhost:8080/"
        },
        "id": "2A8n1gS8OAbb",
        "outputId": "55ce5338-b8a1-4814-d42a-d5a884965f62"
      },
      "execution_count": 9,
      "outputs": [
        {
          "output_type": "stream",
          "name": "stdout",
          "text": [
            "5   5\n",
            "5   5\n",
            "5   5\n",
            "5   5\n",
            "6   6\n",
            "6   6\n",
            "6   6\n",
            "6   6\n",
            "2   2\n",
            "2   2\n",
            "2   2\n",
            "2   2\n",
            "10   10\n",
            "10   10\n",
            "10   10\n",
            "10   10\n"
          ]
        }
      ]
    },
    {
      "cell_type": "markdown",
      "source": [
        "Complejidad de funciones complejas"
      ],
      "metadata": {
        "id": "RnSy2tFHOc0e"
      }
    },
    {
      "cell_type": "code",
      "source": [
        "def complex_algo(items):\n",
        "\n",
        "    for i in range(5):\n",
        "        print (\"PYTHON ES FENOMENAL\")\n",
        "\n",
        "    for i in items:\n",
        "        print(i)\n",
        "\n",
        "    for i in items:\n",
        "        print(i)\n",
        "\n",
        "    print(\"Big O\")\n",
        "    print(\"Big O\")\n",
        "    print(\"Big O\")\n",
        "\n",
        "complex_algo([4, 7, 2, 10])"
      ],
      "metadata": {
        "colab": {
          "base_uri": "https://localhost:8080/"
        },
        "id": "GkHtnXzPOaGL",
        "outputId": "115c0ae7-6ffc-4b7a-9781-12f247b508bd"
      },
      "execution_count": 11,
      "outputs": [
        {
          "output_type": "stream",
          "name": "stdout",
          "text": [
            "PYTHON ES FENOMENAL\n",
            "PYTHON ES FENOMENAL\n",
            "PYTHON ES FENOMENAL\n",
            "PYTHON ES FENOMENAL\n",
            "PYTHON ES FENOMENAL\n",
            "4\n",
            "7\n",
            "2\n",
            "10\n",
            "4\n",
            "7\n",
            "2\n",
            "10\n",
            "Big O\n",
            "Big O\n",
            "Big O\n"
          ]
        }
      ]
    },
    {
      "cell_type": "markdown",
      "source": [
        "O(8) + O(2n) => O(8) + O(n)"
      ],
      "metadata": {
        "id": "uuJVRLCxPL-o"
      }
    },
    {
      "cell_type": "markdown",
      "source": [
        "Peor vs mejor complejidad de caso"
      ],
      "metadata": {
        "id": "nx1PjpaJPYps"
      }
    },
    {
      "cell_type": "code",
      "source": [
        "def search_algo(num, items):\n",
        "    for i in items:\n",
        "        if i == num:\n",
        "            return True\n",
        "        else:\n",
        "            return False\n",
        "nums = [4,7,10,9,16]\n",
        "\n",
        "print(search_algo(6, nums))"
      ],
      "metadata": {
        "colab": {
          "base_uri": "https://localhost:8080/"
        },
        "id": "7ckEJEbFPhsr",
        "outputId": "f234ebd0-7cc4-4c27-f384-49436d45cc24"
      },
      "execution_count": 12,
      "outputs": [
        {
          "output_type": "stream",
          "name": "stdout",
          "text": [
            "False\n"
          ]
        }
      ]
    },
    {
      "cell_type": "markdown",
      "source": [
        "Complejidad Espacial:"
      ],
      "metadata": {
        "id": "ufl7GmqyQdm0"
      }
    },
    {
      "cell_type": "code",
      "source": [
        "def return_squares(n):\n",
        "    square_list = []\n",
        "    for num in n:\n",
        "        square_list.append(num * num)\n",
        "\n",
        "    return square_list\n",
        "\n",
        "nums = [4, 7, 10, 9, 16]\n",
        "print(return_squares(nums))"
      ],
      "metadata": {
        "colab": {
          "base_uri": "https://localhost:8080/"
        },
        "id": "CuJx6L5uQhHT",
        "outputId": "c013e1ab-6269-4bd6-9539-778ccf07e2d7"
      },
      "execution_count": 13,
      "outputs": [
        {
          "output_type": "stream",
          "name": "stdout",
          "text": [
            "[16, 49, 100, 81, 256]\n"
          ]
        }
      ]
    }
  ]
}